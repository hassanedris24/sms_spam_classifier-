{
  "nbformat": 4,
  "nbformat_minor": 0,
  "metadata": {
    "colab": {
      "provenance": []
    },
    "kernelspec": {
      "name": "python3",
      "display_name": "Python 3"
    },
    "language_info": {
      "name": "python"
    }
  },
  "cells": [
    {
      "cell_type": "code",
      "execution_count": 1,
      "metadata": {
        "colab": {
          "base_uri": "https://localhost:8080/"
        },
        "id": "NYTSjiQ78b_A",
        "outputId": "f69c9618-ba5a-491d-fcc4-b50a01fc5904"
      },
      "outputs": [
        {
          "output_type": "stream",
          "name": "stdout",
          "text": [
            "                                        Message_body  \\\n",
            "0                         Rofl. Its true to its name   \n",
            "1  The guy did some bitching but I acted like i'd...   \n",
            "2  Pity, * was in mood for that. So...any other s...   \n",
            "3               Will ü b going to esplanade fr home?   \n",
            "4  This is the 2nd time we have tried 2 contact u...   \n",
            "\n",
            "                                     Cleaned_Message  \n",
            "0                                          rofl true  \n",
            "1  guy did bitching acted like id interested buyi...  \n",
            "2                        pity mood soany suggestions  \n",
            "3                        ü b going esplanade fr home  \n",
            "4  nd time tried contact u u won £ pound prize cl...  \n"
          ]
        }
      ],
      "source": [
        "# STEP 1: DATA PREPROCESSING\n",
        "\n",
        "import pandas as pd\n",
        "import string\n",
        "import re\n",
        "from sklearn.feature_extraction import text\n",
        "\n",
        "# 1. Load your dataset\n",
        "df = pd.read_csv(\"SMS_train.csv\", encoding='latin1')  # Change path as needed\n",
        "\n",
        "# 2. Set up stop words\n",
        "stop_words = text.ENGLISH_STOP_WORDS\n",
        "\n",
        "# 3. Define a preprocessing function\n",
        "def preprocess_text(text):\n",
        "    text = text.lower()  # Lowercase the text\n",
        "    text = re.sub(r'\\d+', '', text)  # Remove numbers\n",
        "    text = text.translate(str.maketrans('', '', string.punctuation))  # Remove punctuation\n",
        "    tokens = text.split()  # Tokenize\n",
        "    tokens = [word for word in tokens if word not in stop_words]  # Remove stopwords\n",
        "    return ' '.join(tokens)  # Rejoin the words\n",
        "\n",
        "# 4. Apply the function to your dataset\n",
        "df['Cleaned_Message'] = df['Message_body'].astype(str).apply(preprocess_text)\n",
        "\n",
        "# 5. Preview cleaned data\n",
        "print(df[['Message_body', 'Cleaned_Message']].head())\n"
      ]
    },
    {
      "cell_type": "code",
      "source": [
        "# STEP 2: FEATURE EXTRACTION\n",
        "\n",
        "from sklearn.feature_extraction.text import TfidfVectorizer\n",
        "\n",
        "# 1. Get the cleaned message column\n",
        "X_text = df['Cleaned_Message']\n",
        "\n",
        "# 2. Initialize TF-IDF Vectorizer\n",
        "vectorizer = TfidfVectorizer()\n",
        "\n",
        "# 3. Fit and transform the text data\n",
        "X_features = vectorizer.fit_transform(X_text)\n",
        "\n",
        "# 4. Check the shape of the resulting feature matrix\n",
        "print(\"TF-IDF feature matrix shape:\", X_features.shape)\n",
        "\n",
        "# 5. (Optional) View feature names\n",
        "feature_names = vectorizer.get_feature_names_out()\n",
        "print(\"Sample features:\", feature_names[:10])\n"
      ],
      "metadata": {
        "colab": {
          "base_uri": "https://localhost:8080/"
        },
        "id": "_tO678oQ9m-0",
        "outputId": "d7aea01e-846b-4699-eed7-fa3cc7fa113e"
      },
      "execution_count": 2,
      "outputs": [
        {
          "output_type": "stream",
          "name": "stdout",
          "text": [
            "TF-IDF feature matrix shape: (957, 2810)\n",
            "Sample features: ['aa' 'aah' 'abdomen' 'able' 'absolutely' 'abt' 'accent' 'access'\n",
            " 'accident' 'accidentally']\n"
          ]
        }
      ]
    },
    {
      "cell_type": "code",
      "source": [
        "# STEP 3: DATA SPLITTING\n",
        "\n",
        "from sklearn.model_selection import train_test_split\n",
        "\n",
        "# 1. Target labels (Spam or Non-Spam)\n",
        "y = df['Label']\n",
        "\n",
        "# 2. Split into training and test sets (80% train, 20% test)\n",
        "X_train, X_test, y_train, y_test = train_test_split(\n",
        "    X_features,  # from Step 2: TF-IDF features\n",
        "    y,\n",
        "    test_size=0.2,\n",
        "    random_state=42,  # ensures reproducibility\n",
        "    stratify=y        # preserves class distribution\n",
        ")\n",
        "\n",
        "# 3. Confirm the split\n",
        "print(\"Training set size:\", X_train.shape)\n",
        "print(\"Test set size:\", X_test.shape)\n"
      ],
      "metadata": {
        "colab": {
          "base_uri": "https://localhost:8080/"
        },
        "id": "x0ucZAQV9sXk",
        "outputId": "110efe7e-d0c0-4b6b-d168-cf6823746d64"
      },
      "execution_count": 3,
      "outputs": [
        {
          "output_type": "stream",
          "name": "stdout",
          "text": [
            "Training set size: (765, 2810)\n",
            "Test set size: (192, 2810)\n"
          ]
        }
      ]
    },
    {
      "cell_type": "code",
      "source": [
        "# STEP 4: MODEL SELECTION\n",
        "\n",
        "from sklearn.naive_bayes import MultinomialNB\n",
        "\n",
        "# 1. Initialize the Naive Bayes model\n",
        "model = MultinomialNB()\n",
        "\n",
        "# 2. Review model parameters (optional)\n",
        "print(model)\n"
      ],
      "metadata": {
        "colab": {
          "base_uri": "https://localhost:8080/"
        },
        "id": "jBCZe-th9xcl",
        "outputId": "39f0a360-b73e-41db-ce88-1df2db11b321"
      },
      "execution_count": 4,
      "outputs": [
        {
          "output_type": "stream",
          "name": "stdout",
          "text": [
            "MultinomialNB()\n"
          ]
        }
      ]
    },
    {
      "cell_type": "code",
      "source": [
        "# STEP 5: EXTENDED MODEL TRAINING\n",
        "\n",
        "# 1. Train the model on the training data\n",
        "model.fit(X_train, y_train)\n",
        "\n",
        "# 2. Output training status\n",
        "print(\"✅ Model training completed.\")\n",
        "\n",
        "# 3. Inspect learned log priors (class probabilities)\n",
        "print(\"\\n📊 Log Prior Probabilities (per class):\")\n",
        "classes = model.classes_\n",
        "log_priors = model.class_log_prior_\n",
        "\n",
        "for cls, logp in zip(classes, log_priors):\n",
        "    print(f\"  {cls}: {logp:.4f}\")\n",
        "\n",
        "# 4. Optional: Look at top indicative words per class (based on TF-IDF)\n",
        "import numpy as np\n",
        "\n",
        "# Get feature names and log probabilities\n",
        "feature_names = vectorizer.get_feature_names_out()\n",
        "class_labels = model.classes_\n",
        "top_n = 10\n",
        "\n",
        "print(\"\\n🔍 Top indicative words per class:\")\n",
        "for i, class_label in enumerate(class_labels):\n",
        "    top_features = np.argsort(model.feature_log_prob_[i])[-top_n:][::-1]\n",
        "    print(f\"\\n📌 Top words for '{class_label}':\")\n",
        "    for feature_index in top_features:\n",
        "        print(f\"  {feature_names[feature_index]}\")\n"
      ],
      "metadata": {
        "colab": {
          "base_uri": "https://localhost:8080/"
        },
        "id": "Laf1IuW3-V1d",
        "outputId": "50874486-3eaf-4c44-ccfa-4b637c77387b"
      },
      "execution_count": 5,
      "outputs": [
        {
          "output_type": "stream",
          "name": "stdout",
          "text": [
            "✅ Model training completed.\n",
            "\n",
            "📊 Log Prior Probabilities (per class):\n",
            "  Non-Spam: -0.1371\n",
            "  Spam: -2.0549\n",
            "\n",
            "🔍 Top indicative words per class:\n",
            "\n",
            "📌 Top words for 'Non-Spam':\n",
            "  im\n",
            "  ok\n",
            "  just\n",
            "  later\n",
            "  come\n",
            "  got\n",
            "  oh\n",
            "  ill\n",
            "  ltgt\n",
            "  ur\n",
            "\n",
            "📌 Top words for 'Spam':\n",
            "  free\n",
            "  stop\n",
            "  mobile\n",
            "  prize\n",
            "  claim\n",
            "  won\n",
            "  txt\n",
            "  text\n",
            "  reply\n",
            "  shows\n"
          ]
        }
      ]
    },
    {
      "cell_type": "code",
      "source": [
        "# STEP 6: MODEL EVALUATION\n",
        "\n",
        "from sklearn.metrics import classification_report, confusion_matrix, accuracy_score\n",
        "\n",
        "# 1. Predict on the test set\n",
        "y_pred = model.predict(X_test)\n",
        "\n",
        "# 2. Evaluate accuracy\n",
        "accuracy = accuracy_score(y_test, y_pred)\n",
        "print(f\"✅ Accuracy: {accuracy:.4f}\")\n",
        "\n",
        "# 3. Generate full classification report\n",
        "print(\"\\n📊 Classification Report:\")\n",
        "print(classification_report(y_test, y_pred, target_names=model.classes_))\n",
        "\n",
        "# 4. Display confusion matrix\n",
        "print(\"\\n🧩 Confusion Matrix:\")\n",
        "cm = confusion_matrix(y_test, y_pred, labels=model.classes_)\n",
        "cm_df = pd.DataFrame(cm,\n",
        "                     index=[f\"Actual {label}\" for label in model.classes_],\n",
        "                     columns=[f\"Predicted {label}\" for label in model.classes_])\n",
        "print(cm_df)\n"
      ],
      "metadata": {
        "colab": {
          "base_uri": "https://localhost:8080/"
        },
        "id": "cDfActVF-XcU",
        "outputId": "3717b425-44c7-41f2-befd-8fc7c0ae48cb"
      },
      "execution_count": 6,
      "outputs": [
        {
          "output_type": "stream",
          "name": "stdout",
          "text": [
            "✅ Accuracy: 0.9167\n",
            "\n",
            "📊 Classification Report:\n",
            "              precision    recall  f1-score   support\n",
            "\n",
            "    Non-Spam       0.91      1.00      0.95       168\n",
            "        Spam       1.00      0.33      0.50        24\n",
            "\n",
            "    accuracy                           0.92       192\n",
            "   macro avg       0.96      0.67      0.73       192\n",
            "weighted avg       0.92      0.92      0.90       192\n",
            "\n",
            "\n",
            "🧩 Confusion Matrix:\n",
            "                 Predicted Non-Spam  Predicted Spam\n",
            "Actual Non-Spam                 168               0\n",
            "Actual Spam                      16               8\n"
          ]
        }
      ]
    },
    {
      "cell_type": "code",
      "source": [
        "# STEP 7: INFERENCE (PREDICTING NEW MESSAGES)\n",
        "\n",
        "# 1. Define new messages\n",
        "new_messages = [\n",
        "    \"Congratulations! You have won a free iPhone. Reply NOW to claim.\",\n",
        "    \"Hi! Are we still on for lunch tomorrow?\",\n",
        "    \"Your account has been suspended. Call us immediately to reactivate.\",\n",
        "    \"Free entry in 2 a weekly competition to win cash!\"\n",
        "]\n",
        "\n",
        "# 2. Preprocess them using the same function from Step 1\n",
        "new_cleaned = [preprocess_text(msg) for msg in new_messages]\n",
        "\n",
        "# 3. Convert them to TF-IDF features using the same vectorizer\n",
        "new_features = vectorizer.transform(new_cleaned)\n",
        "\n",
        "# 4. Predict using the trained model\n",
        "new_predictions = model.predict(new_features)\n",
        "\n",
        "# 5. Display the results\n",
        "print(\"\\n📬 New Message Predictions:\")\n",
        "for msg, label in zip(new_messages, new_predictions):\n",
        "    print(f\"\\nMessage: {msg}\\n➡️ Prediction: {label}\")\n"
      ],
      "metadata": {
        "colab": {
          "base_uri": "https://localhost:8080/"
        },
        "id": "dEdGoJIn-fZs",
        "outputId": "423f7e3e-17ac-44e6-a1cf-993213c2b1c4"
      },
      "execution_count": 7,
      "outputs": [
        {
          "output_type": "stream",
          "name": "stdout",
          "text": [
            "\n",
            "📬 New Message Predictions:\n",
            "\n",
            "Message: Congratulations! You have won a free iPhone. Reply NOW to claim.\n",
            "➡️ Prediction: Spam\n",
            "\n",
            "Message: Hi! Are we still on for lunch tomorrow?\n",
            "➡️ Prediction: Non-Spam\n",
            "\n",
            "Message: Your account has been suspended. Call us immediately to reactivate.\n",
            "➡️ Prediction: Non-Spam\n",
            "\n",
            "Message: Free entry in 2 a weekly competition to win cash!\n",
            "➡️ Prediction: Non-Spam\n"
          ]
        }
      ]
    },
    {
      "cell_type": "code",
      "source": [
        "from sklearn.model_selection import GridSearchCV\n",
        "from sklearn.pipeline import Pipeline\n",
        "from sklearn.feature_extraction.text import TfidfVectorizer\n",
        "from sklearn.naive_bayes import MultinomialNB\n",
        "\n",
        "# Use raw cleaned messages for X (not pre-vectorized TF-IDF matrix)\n",
        "X_raw = df['Cleaned_Message']\n",
        "y = df['Label']\n",
        "\n",
        "# Split again from scratch (raw input this time)\n",
        "from sklearn.model_selection import train_test_split\n",
        "X_train, X_test, y_train, y_test = train_test_split(X_raw, y, test_size=0.2, random_state=42, stratify=y)\n",
        "\n",
        "# Build the pipeline (text -> tfidf -> model)\n",
        "pipeline = Pipeline([\n",
        "    ('tfidf', TfidfVectorizer()),\n",
        "    ('nb', MultinomialNB())\n",
        "])\n",
        "\n",
        "# Define parameter grid\n",
        "param_grid = {\n",
        "    'tfidf__max_df': [0.9, 1.0],\n",
        "    'tfidf__ngram_range': [(1,1), (1,2)],\n",
        "    'nb__alpha': [0.5, 1.0, 1.5]\n",
        "}\n",
        "\n",
        "# Grid Search with 5-fold cross-validation\n",
        "grid = GridSearchCV(pipeline, param_grid, cv=5, scoring='f1_macro', n_jobs=-1)\n",
        "\n",
        "# Fit the pipeline\n",
        "grid.fit(X_train, y_train)\n",
        "\n",
        "# Show best results\n",
        "print(\"✅ Best Parameters:\", grid.best_params_)\n",
        "print(\"🎯 Best CV F1 Score:\", grid.best_score_)\n",
        "\n",
        "# Evaluate on test set\n",
        "from sklearn.metrics import classification_report, confusion_matrix\n",
        "\n",
        "y_pred = grid.predict(X_test)\n",
        "\n",
        "print(\"\\n📊 Classification Report:\")\n",
        "print(classification_report(y_test, y_pred))\n",
        "\n",
        "print(\"\\n🧩 Confusion Matrix:\")\n",
        "cm = confusion_matrix(y_test, y_pred, labels=grid.best_estimator_.classes_)\n",
        "print(pd.DataFrame(cm,\n",
        "                   index=[f\"Actual {l}\" for l in grid.best_estimator_.classes_],\n",
        "                   columns=[f\"Predicted {l}\" for l in grid.best_estimator_.classes_]))\n"
      ],
      "metadata": {
        "colab": {
          "base_uri": "https://localhost:8080/"
        },
        "id": "KrqmFEzS-4Hd",
        "outputId": "c7e9f930-6b8a-4928-9bb4-3c528745a582"
      },
      "execution_count": 9,
      "outputs": [
        {
          "output_type": "stream",
          "name": "stdout",
          "text": [
            "✅ Best Parameters: {'nb__alpha': 0.5, 'tfidf__max_df': 0.9, 'tfidf__ngram_range': (1, 1)}\n",
            "🎯 Best CV F1 Score: 0.8449485889934698\n",
            "\n",
            "📊 Classification Report:\n",
            "              precision    recall  f1-score   support\n",
            "\n",
            "    Non-Spam       0.95      1.00      0.98       168\n",
            "        Spam       1.00      0.67      0.80        24\n",
            "\n",
            "    accuracy                           0.96       192\n",
            "   macro avg       0.98      0.83      0.89       192\n",
            "weighted avg       0.96      0.96      0.95       192\n",
            "\n",
            "\n",
            "🧩 Confusion Matrix:\n",
            "                 Predicted Non-Spam  Predicted Spam\n",
            "Actual Non-Spam                 168               0\n",
            "Actual Spam                       8              16\n"
          ]
        }
      ]
    },
    {
      "cell_type": "code",
      "source": [
        "import matplotlib.pyplot as plt\n",
        "import seaborn as sns\n",
        "from sklearn.metrics import classification_report, confusion_matrix\n",
        "\n",
        "# 1. Predict with the best model\n",
        "y_pred = grid.predict(X_test)\n",
        "\n",
        "# 2. Confusion Matrix\n",
        "cm = confusion_matrix(y_test, y_pred, labels=grid.best_estimator_.classes_)\n",
        "labels = grid.best_estimator_.classes_\n",
        "\n",
        "plt.figure(figsize=(6, 4))\n",
        "sns.heatmap(cm, annot=True, fmt=\"d\", cmap=\"Blues\",\n",
        "            xticklabels=labels, yticklabels=labels)\n",
        "plt.title(\"📊 Confusion Matrix\")\n",
        "plt.xlabel(\"Predicted\")\n",
        "plt.ylabel(\"Actual\")\n",
        "plt.show()\n",
        "\n",
        "# 3. Classification Report Bar Plot\n",
        "report = classification_report(y_test, y_pred, output_dict=True, target_names=labels)\n",
        "report_df = pd.DataFrame(report).transpose().drop(['accuracy', 'macro avg', 'weighted avg'])\n",
        "\n",
        "plt.figure(figsize=(8, 4))\n",
        "report_df[['precision', 'recall', 'f1-score']].plot(kind='bar', figsize=(10, 5))\n",
        "plt.title(\"📈 Precision, Recall, F1-score per Class\")\n",
        "plt.ylim(0, 1.1)\n",
        "plt.grid(True, linestyle=\"--\", linewidth=0.5)\n",
        "plt.xticks(rotation=0)\n",
        "plt.show()\n"
      ],
      "metadata": {
        "colab": {
          "base_uri": "https://localhost:8080/",
          "height": 968
        },
        "id": "dRAlV7Bs_Dad",
        "outputId": "a5fd2f4b-ca45-49bd-821c-fb5be426557b"
      },
      "execution_count": 10,
      "outputs": [
        {
          "output_type": "stream",
          "name": "stderr",
          "text": [
            "/usr/local/lib/python3.11/dist-packages/IPython/core/pylabtools.py:151: UserWarning: Glyph 128202 (\\N{BAR CHART}) missing from font(s) DejaVu Sans.\n",
            "  fig.canvas.print_figure(bytes_io, **kw)\n"
          ]
        },
        {
          "output_type": "display_data",
          "data": {
            "text/plain": [
              "<Figure size 600x400 with 2 Axes>"
            ],
            "image/png": "[encoded data removed]"
          },
          "metadata": {}
        },
        {
          "output_type": "display_data",
          "data": {
            "text/plain": [
              "<Figure size 800x400 with 0 Axes>"
            ]
          },
          "metadata": {}
        },
        {
          "output_type": "stream",
          "name": "stderr",
          "text": [
            "/usr/local/lib/python3.11/dist-packages/IPython/core/pylabtools.py:151: UserWarning: Glyph 128200 (\\N{CHART WITH UPWARDS TREND}) missing from font(s) DejaVu Sans.\n",
            "  fig.canvas.print_figure(bytes_io, **kw)\n"
          ]
        },
        {
          "output_type": "display_data",
          "data": {
            "text/plain": [
              "<Figure size 1000x500 with 1 Axes>"
            ],
            "image/png": "[encoded data removed]"
          },
          "metadata": {}
        }
      ]
    }
  ]
}